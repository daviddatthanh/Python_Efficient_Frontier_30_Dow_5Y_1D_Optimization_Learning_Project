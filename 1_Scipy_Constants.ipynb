{
 "cells": [
  {
   "cell_type": "markdown",
   "metadata": {},
   "source": [
    "### constants"
   ]
  },
  {
   "cell_type": "markdown",
   "metadata": {},
   "source": [
    "As SciPy is more focused on scientific implementations, it provides many built-in scientific constants.\n",
    "\n",
    "These constants can be helpful when you are working with Data Science."
   ]
  },
  {
   "cell_type": "code",
   "execution_count": null,
   "metadata": {},
   "outputs": [],
   "source": [
    "from scipy import constants\n",
    "\n",
    "#an example. scipy has so many constants\n",
    "print(constants.pi)"
   ]
  },
  {
   "cell_type": "markdown",
   "metadata": {},
   "source": [
    "Unit Categories\n",
    "The units are placed under these categories:\n",
    "\n",
    "Metric\n",
    "Binary\n",
    "Mass\n",
    "Angle\n",
    "Time\n",
    "Length\n",
    "Pressure\n",
    "Volume\n",
    "Speed\n",
    "Temperature\n",
    "Energy\n",
    "Power\n",
    "Force"
   ]
  }
 ],
 "metadata": {
  "language_info": {
   "name": "python"
  }
 },
 "nbformat": 4,
 "nbformat_minor": 2
}
